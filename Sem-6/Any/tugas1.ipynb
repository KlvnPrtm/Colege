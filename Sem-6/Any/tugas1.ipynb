{
 "cells": [
  {
   "cell_type": "code",
   "execution_count": 1,
   "metadata": {},
   "outputs": [],
   "source": [
    "import datetime\n",
    "import json\n",
    "import urllib.request"
   ]
  },
  {
   "cell_type": "code",
   "execution_count": 4,
   "metadata": {},
   "outputs": [],
   "source": [
    "def time_converter(time):\n",
    "    converted_time = datetime.datetime.fromtimestamp(int(time)).strftime('%I:%M %p')\n",
    "    return converted_time"
   ]
  },
  {
   "cell_type": "code",
   "execution_count": 5,
   "metadata": {},
   "outputs": [],
   "source": [
    "def url_builder(city_id):\n",
    "    user_api = '4fda3beaf72b9048609348050de73a1d' # Obtain yours form: http://openweathermap.org/\n",
    "    unit = 'metric' # For Fahrenheit use imperial, for Celsius use metric, and the default is Kelvin.\n",
    "    api = 'http://api.openweathermap.org/data/2.5/weather?id='\n",
    "    # Search for your city ID here: http://bulk.openweathermap.org/sample/city.list.json.gz\n",
    "    full_api_url = api + str(city_id) + '&mode=json&units=' + unit + '&APPID=' + user_api\n",
    "    return full_api_url"
   ]
  },
  {
   "cell_type": "code",
   "execution_count": 6,
   "metadata": {},
   "outputs": [],
   "source": [
    "def data_fetch(full_api_url):\n",
    "    url = urllib.request.urlopen(full_api_url)\n",
    "    output = url.read().decode('utf-8')\n",
    "    raw_api_dict = json.loads(output)\n",
    "    url.close()\n",
    "    return raw_api_dict"
   ]
  },
  {
   "cell_type": "code",
   "execution_count": 7,
   "metadata": {},
   "outputs": [],
   "source": [
    "def data_organizer(raw_api_dict):\n",
    "    data = dict(\n",
    "        city=raw_api_dict.get('name'),\n",
    "        country=raw_api_dict.get('sys').get('country'),\n",
    "        temp=raw_api_dict.get('main').get('temp'),\n",
    "        temp_max=raw_api_dict.get('main').get('temp_max'),\n",
    "        temp_min=raw_api_dict.get('main').get('temp_min'),\n",
    "        humidity=raw_api_dict.get('main').get('humidity'),\n",
    "        pressure=raw_api_dict.get('main').get('pressure'),\n",
    "        sky=raw_api_dict['weather'][0]['main'],\n",
    "        sunrise=time_converter(raw_api_dict.get('sys').get('sunrise')),\n",
    "        sunset=time_converter(raw_api_dict.get('sys').get('sunset')),\n",
    "        wind=raw_api_dict.get('wind').get('speed'),\n",
    "        wind_deg=raw_api_dict.get('deg'),\n",
    "        dt=time_converter(raw_api_dict.get('dt')),\n",
    "        cloudiness=raw_api_dict.get('clouds').get('all'),\n",
    "        description=raw_api_dict['weather'][0]['description'],\n",
    "        visibility=raw_api_dict.get('visibility')\n",
    "    )\n",
    "    return data"
   ]
  },
  {
   "cell_type": "code",
   "execution_count": 8,
   "metadata": {},
   "outputs": [],
   "source": [
    "def data_output(data):\n",
    "    m_symbol = '\\xb0' + 'C'\n",
    "    print('---------------------------------------')\n",
    "    print('Current weather in: {}, {}:'.format(data['city'], data['country']))\n",
    "    print(data['temp'], m_symbol, data['sky'])\n",
    "    print('Max: {}, Min: {}'.format(data['temp_max'], data['temp_min']))\n",
    "    print('')\n",
    "    print('Wind Speed: {}, Degree: {}'.format(data['wind'], data['wind_deg']))\n",
    "    print('Humidity: {}'.format(data['humidity']))\n",
    "    print('Cloud: {}'.format(data['cloudiness']))\n",
    "    print('Pressure: {}'.format(data['pressure']))\n",
    "    print('Sunrise at: {}'.format(data['sunrise']))\n",
    "    print('Sunset at: {}'.format(data['sunset']))\n",
    "    print('Description: {}'.format(data['description']))\n",
    "    print('Visibility: {} meters'.format(data['visibility']))\n",
    "    print('')\n",
    "    print('Last update from the server: {}'.format(data['dt']))\n",
    "    print('---------------------------------------')"
   ]
  },
  {
   "cell_type": "code",
   "execution_count": 9,
   "metadata": {},
   "outputs": [
    {
     "ename": "NameError",
     "evalue": "name '_name_' is not defined",
     "output_type": "error",
     "traceback": [
      "\u001b[1;31m---------------------------------------------------------------------------\u001b[0m",
      "\u001b[1;31mNameError\u001b[0m                                 Traceback (most recent call last)",
      "Cell \u001b[1;32mIn[9], line 2\u001b[0m\n\u001b[0;32m      1\u001b[0m \u001b[38;5;66;03m#Malaysia id 1733045\u001b[39;00m\n\u001b[1;32m----> 2\u001b[0m \u001b[38;5;28;01mif\u001b[39;00m \u001b[43m_name_\u001b[49m \u001b[38;5;241m==\u001b[39m \u001b[38;5;124m'\u001b[39m\u001b[38;5;124m_main_\u001b[39m\u001b[38;5;124m'\u001b[39m:\n\u001b[0;32m      3\u001b[0m    \u001b[38;5;28;01mtry\u001b[39;00m:\n\u001b[0;32m      4\u001b[0m        data_output(data_organizer(data_fetch(url_builder(\u001b[38;5;241m1733045\u001b[39m))))\n",
      "\u001b[1;31mNameError\u001b[0m: name '_name_' is not defined"
     ]
    }
   ],
   "source": [
    " #Malaysia id 1733045\n",
    "if _name_ == '_main_':\n",
    "    try:\n",
    "        data_output(data_organizer(data_fetch(url_builder(1733045))))\n",
    "    except IOError:\n",
    "        print('no internet')"
   ]
  }
 ],
 "metadata": {
  "kernelspec": {
   "display_name": "Python 3",
   "language": "python",
   "name": "python3"
  },
  "language_info": {
   "codemirror_mode": {
    "name": "ipython",
    "version": 3
   },
   "file_extension": ".py",
   "mimetype": "text/x-python",
   "name": "python",
   "nbconvert_exporter": "python",
   "pygments_lexer": "ipython3",
   "version": "3.10.11"
  }
 },
 "nbformat": 4,
 "nbformat_minor": 2
}
